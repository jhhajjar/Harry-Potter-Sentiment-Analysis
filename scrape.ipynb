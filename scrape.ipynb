{
 "cells": [
  {
   "cell_type": "markdown",
   "metadata": {},
   "source": [
    "## Harry Potter Scraper\n",
    "The purpose of the script below is to scrape the internet to find and store the text of all of the Harry Potter books. We will be scraping the books off of this website: https://allnovel.net/search.php?keyword=harry-potter. First we need to be able to scrape the link to each book from the homepage. Once we have followed the link to the book, we need to follow the link to each chapter, and scrape each of those."
   ]
  },
  {
   "cell_type": "code",
   "execution_count": 1,
   "metadata": {},
   "outputs": [],
   "source": [
    "import requests\n",
    "import bs4\n",
    "import os\n",
    "from datetime import datetime as dt\n",
    "base_url = 'https://allnovel.net'\n",
    "t0 = dt.now()"
   ]
  },
  {
   "cell_type": "code",
   "execution_count": 2,
   "metadata": {},
   "outputs": [],
   "source": [
    "home_url = 'https://allnovel.net/search.php?keyword=harry-potter'\n",
    "homepage = requests.get(home_url)\n",
    "home_soup = bs4.BeautifulSoup(homepage.content)\n",
    "bookLinks = [base_url + div.find('a')['href'] for div in home_soup.find_all('div', class_='thumbnail')]"
   ]
  },
  {
   "cell_type": "markdown",
   "metadata": {},
   "source": [
    "### Create Backbone Functions\n",
    "Let's make a method that will scrape a book given its home page url. The method will have to get all of the links to the book's chapters and then scrape each of these pages for the actual text. Let's first get the links, and then we can make another function which scrapes the text given the chapter links."
   ]
  },
  {
   "cell_type": "code",
   "execution_count": 3,
   "metadata": {},
   "outputs": [],
   "source": [
    "def getChapterTextFromChapterLink(chapterLink):\n",
    "    chapter_home = requests.get(chapterLink).content\n",
    "    chapter_soup = bs4.BeautifulSoup(chapter_home)    \n",
    "    paragraphs = [p.get_text() for p in chapter_soup.find(class_='des_novel').find_all('p')]\n",
    "    return ' '.join(paragraphs).strip('\\t\\n\\t\\t\\t\\t\\t\\t\\t\\t')"
   ]
  },
  {
   "cell_type": "code",
   "execution_count": 4,
   "metadata": {},
   "outputs": [],
   "source": [
    "def getBookTextFromBookLink(bookLink):\n",
    "    book_page = requests.get(bookLink)\n",
    "    book_soup = bs4.BeautifulSoup(book_page.content)\n",
    "    chapterLinks = [base_url + a['href'] for a in book_soup.find(id='list_chapter').find_all('a')]\n",
    "    book_text = ''\n",
    "    for chapterLink in chapterLinks:\n",
    "        book_text += ' ' + getChapterTextFromChapterLink(chapterLink)\n",
    "    \n",
    "    return book_text"
   ]
  },
  {
   "cell_type": "code",
   "execution_count": 5,
   "metadata": {},
   "outputs": [],
   "source": [
    "def getBookTitleFromBookLink(bookLink):\n",
    "    book_page = requests.get(bookLink)\n",
    "    book_soup = bs4.BeautifulSoup(book_page.content)\n",
    "    return book_soup.find('h1').get_text()"
   ]
  },
  {
   "cell_type": "markdown",
   "metadata": {},
   "source": [
    "### Scrape all of the books and save them as a csv"
   ]
  },
  {
   "cell_type": "code",
   "execution_count": 6,
   "metadata": {},
   "outputs": [
    {
     "name": "stdout",
     "output_type": "stream",
     "text": [
      "Working on Harry Potter and the Order of the Phoenix (Harry Potter #5)...\n",
      "Working on Harry Potter and the Chamber of Secrets (Harry Potter #2)...\n",
      "Working on Harry Potter and the Deathly Hallows (Harry Potter #7)...\n",
      "Working on Harry Potter and the Half-Blood Prince (Harry Potter #6)...\n",
      "Working on Harry Potter and the Goblet of Fire (Harry Potter #4)...\n",
      "Working on Harry Potter and the Prisoner of Azkaban (Harry Potter #3)...\n",
      "Working on Harry Potter and the Philosopher's Stone (Harry Potter #1)...\n"
     ]
    }
   ],
   "source": [
    "books = dict()\n",
    "\n",
    "for bookLink in bookLinks:\n",
    "    title = getBookTitleFromBookLink(bookLink)\n",
    "    print('Working on {}...'.format(title))\n",
    "    bookText = getBookTextFromBookLink(bookLink)\n",
    "    shortened_title = title[title.find('(')+1:title.find(')')] # save only the number harry potter it is\n",
    "    \n",
    "    books[title] = bookText\n",
    "t1 = dt.now()"
   ]
  },
  {
   "cell_type": "code",
   "execution_count": 7,
   "metadata": {},
   "outputs": [],
   "source": [
    "import pandas as pd\n",
    "books_df = pd.DataFrame.from_dict(books, orient='index').reset_index()\n",
    "books_df.rename(columns={'index': 'title', 0: 'text'}, inplace=True)\n",
    "books_df['shortened_title'] = books_df['title'].apply(lambda x: x[x.find('(')+1:x.find(')')])\n",
    "\n",
    "books_df.to_csv('harry_potter.csv')"
   ]
  },
  {
   "cell_type": "code",
   "execution_count": 8,
   "metadata": {},
   "outputs": [
    {
     "name": "stdout",
     "output_type": "stream",
     "text": [
      "Total time taken to run this script: 0:02:12.444677\n"
     ]
    }
   ],
   "source": [
    "print('Total time taken to run this script: {}'.format(t1-t0))"
   ]
  }
 ],
 "metadata": {
  "kernelspec": {
   "display_name": "Python 3",
   "language": "python",
   "name": "python3"
  },
  "language_info": {
   "codemirror_mode": {
    "name": "ipython",
    "version": 3
   },
   "file_extension": ".py",
   "mimetype": "text/x-python",
   "name": "python",
   "nbconvert_exporter": "python",
   "pygments_lexer": "ipython3",
   "version": "3.6.5"
  }
 },
 "nbformat": 4,
 "nbformat_minor": 4
}
